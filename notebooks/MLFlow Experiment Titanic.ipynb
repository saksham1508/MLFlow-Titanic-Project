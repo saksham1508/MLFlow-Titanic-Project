{
 "cells": [
  {
   "cell_type": "code",
   "execution_count": null,
   "id": "5f7626c0",
   "metadata": {},
   "outputs": [],
   "source": [
    "# MLFlow Titanic Project: Data Loading and Setup\n",
    "import pandas as pd\n",
    "from src.utils import preprocess_titanic\n",
    "\n",
    "data = pd.read_csv('../data/Titanic Dataset.csv')\n",
    "data.head()"
   ]
  },
  {
   "cell_type": "code",
   "execution_count": null,
   "id": "fb941bc7",
   "metadata": {},
   "outputs": [],
   "source": [
    "# Preprocess the Titanic data\n",
    "data_clean = preprocess_titanic(data.copy())\n",
    "data_clean.head()"
   ]
  },
  {
   "cell_type": "code",
   "execution_count": null,
   "id": "fb7c93c3",
   "metadata": {},
   "outputs": [],
   "source": [
    "# Split features and target\n",
    "y = data_clean['Survived']\n",
    "X = data_clean.drop(['Survived', 'PassengerId', 'Name', 'Ticket'], axis=1, errors='ignore')\n",
    "from sklearn.model_selection import train_test_split\n",
    "X_train, X_val, y_train, y_val = train_test_split(X, y, test_size=0.2, random_state=42)\n",
    "X_train.head()"
   ]
  },
  {
   "cell_type": "code",
   "execution_count": null,
   "id": "77794fed",
   "metadata": {},
   "outputs": [],
   "source": [
    "# Train a RandomForest model and evaluate\n",
    "from sklearn.ensemble import RandomForestClassifier\n",
    "from sklearn.metrics import accuracy_score\n",
    "\n",
    "model = RandomForestClassifier(n_estimators=100, max_depth=5, random_state=42)\n",
    "model.fit(X_train, y_train)\n",
    "preds = model.predict(X_val)\n",
    "acc = accuracy_score(y_val, preds)\n",
    "print(f'Validation Accuracy: {acc:.4f}')"
   ]
  },
  {
   "cell_type": "code",
   "execution_count": null,
   "id": "5f81f850",
   "metadata": {},
   "outputs": [],
   "source": [
    "# Log model and metrics with MLflow, and save model\n",
    "import mlflow\n",
    "import mlflow.sklearn\n",
    "import joblib\n",
    "\n",
    "with mlflow.start_run():\n",
    "    mlflow.log_param('n_estimators', 100)\n",
    "    mlflow.log_param('max_depth', 5)\n",
    "    mlflow.log_metric('val_accuracy', acc)\n",
    "    mlflow.sklearn.log_model(model, \"model\")\n",
    "    joblib.dump(model, '../models/titanic_model.pkl')\n",
    "    print('Model saved and logged to MLflow.')"
   ]
  },
  {
   "cell_type": "code",
   "execution_count": null,
   "id": "e15b69f3",
   "metadata": {},
   "outputs": [],
   "source": [
    "# Load the saved model and make predictions on new data\n",
    "loaded_model = joblib.load('../models/titanic_model.pkl')\n",
    "# Example: predict on validation set\n",
    "val_preds = loaded_model.predict(X_val)\n",
    "print(val_preds[:10])"
   ]
  }
 ],
 "metadata": {
  "language_info": {
   "name": "python"
  }
 },
 "nbformat": 4,
 "nbformat_minor": 5
}
