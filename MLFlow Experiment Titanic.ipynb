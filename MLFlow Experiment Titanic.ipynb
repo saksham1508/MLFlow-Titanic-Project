{
 "cells": [
  {
   "cell_type": "markdown",
   "id": "5964d707",
   "metadata": {},
   "source": [
    "# Step 1: Install mlflow and required libraries. \n"
   ]
  },
  {
   "cell_type": "markdown",
   "id": "89fc13d1",
   "metadata": {},
   "source": [
    "# Step 2: Load Data and Perform EDA\n",
    "You would start by loading the Titanic dataset into a pandas DataFrame and perform basic exploratory data analysis (EDA). This step involves cleaning the data, handling missing values, dropping redundant columns, and encoding categorical variables."
   ]
  },
  {
   "cell_type": "code",
   "execution_count": 15,
   "id": "32e22e74",
   "metadata": {},
   "outputs": [],
   "source": [
    "import os\n",
    "import mlflow\n",
    "import pandas as pd\n",
    "import numpy as np\n",
    "import scipy as sc\n",
    "from sklearn.model_selection import train_test_split\n",
    "from sklearn.preprocessing import LabelEncoder\n",
    "from sklearn.impute import SimpleImputer\n",
    "from sklearn.ensemble import RandomForestClassifier\n",
    "from sklearn.preprocessing import StandardScaler\n",
    "from sklearn.metrics import accuracy_score, precision_score, recall_score, f1_score\n",
    "\n",
    "# Load data\n",
    "data = pd.read_csv('D:\\Post Graduate Program IIITH in Software Engg for Data Science\\Part 2 IIITH Software Engg for Data Science\\MLflow Exp Titanic\\Titanic Dataset.csv')\n",
    "\n"
   ]
  },
  {
   "cell_type": "code",
   "execution_count": 16,
   "id": "3d8a96c2",
   "metadata": {
    "scrolled": true
   },
   "outputs": [
    {
     "data": {
      "text/html": [
       "<div>\n",
       "<style scoped>\n",
       "    .dataframe tbody tr th:only-of-type {\n",
       "        vertical-align: middle;\n",
       "    }\n",
       "\n",
       "    .dataframe tbody tr th {\n",
       "        vertical-align: top;\n",
       "    }\n",
       "\n",
       "    .dataframe thead th {\n",
       "        text-align: right;\n",
       "    }\n",
       "</style>\n",
       "<table border=\"1\" class=\"dataframe\">\n",
       "  <thead>\n",
       "    <tr style=\"text-align: right;\">\n",
       "      <th></th>\n",
       "      <th>Missing Values</th>\n",
       "      <th>Percentage (%)</th>\n",
       "    </tr>\n",
       "  </thead>\n",
       "  <tbody>\n",
       "    <tr>\n",
       "      <th>Embarked</th>\n",
       "      <td>2</td>\n",
       "      <td>0.224467</td>\n",
       "    </tr>\n",
       "    <tr>\n",
       "      <th>PassengerId</th>\n",
       "      <td>0</td>\n",
       "      <td>0.000000</td>\n",
       "    </tr>\n",
       "    <tr>\n",
       "      <th>Survived</th>\n",
       "      <td>0</td>\n",
       "      <td>0.000000</td>\n",
       "    </tr>\n",
       "    <tr>\n",
       "      <th>Pclass</th>\n",
       "      <td>0</td>\n",
       "      <td>0.000000</td>\n",
       "    </tr>\n",
       "    <tr>\n",
       "      <th>Sex</th>\n",
       "      <td>0</td>\n",
       "      <td>0.000000</td>\n",
       "    </tr>\n",
       "    <tr>\n",
       "      <th>SibSp</th>\n",
       "      <td>0</td>\n",
       "      <td>0.000000</td>\n",
       "    </tr>\n",
       "    <tr>\n",
       "      <th>Parch</th>\n",
       "      <td>0</td>\n",
       "      <td>0.000000</td>\n",
       "    </tr>\n",
       "    <tr>\n",
       "      <th>Fare</th>\n",
       "      <td>0</td>\n",
       "      <td>0.000000</td>\n",
       "    </tr>\n",
       "  </tbody>\n",
       "</table>\n",
       "</div>"
      ],
      "text/plain": [
       "             Missing Values  Percentage (%)\n",
       "Embarked                  2        0.224467\n",
       "PassengerId               0        0.000000\n",
       "Survived                  0        0.000000\n",
       "Pclass                    0        0.000000\n",
       "Sex                       0        0.000000\n",
       "SibSp                     0        0.000000\n",
       "Parch                     0        0.000000\n",
       "Fare                      0        0.000000"
      ]
     },
     "execution_count": 16,
     "metadata": {},
     "output_type": "execute_result"
    }
   ],
   "source": [
    "# Perform EDA and preprocessing (hypothetical functions)\n",
    "# Assuming 'data' is your pandas DataFrame\n",
    "columns_to_drop = ['Name', 'Ticket','Cabin','Age'] # Columns Dropped\n",
    "data = data.drop(columns_to_drop, axis=1)\n",
    "\n",
    "\n",
    "\n",
    "# Checking for missing values in the dataset\n",
    "missing_values = data.isnull().sum()\n",
    "missing_values_percentage = (missing_values / len(data)) * 100\n",
    "\n",
    "# Displaying the count and percentage of missing values in each column\n",
    "missing_values_summary = pd.DataFrame({'Missing Values': missing_values, 'Percentage (%)': missing_values_percentage})\n",
    "missing_values_summary.sort_values(by=\"Missing Values\", ascending=False)\n"
   ]
  },
  {
   "cell_type": "markdown",
   "id": "66b66f0e",
   "metadata": {},
   "source": [
    "# Step 3: Build and Train Classification Model\n",
    "Now, build and train a classification model using scikit-learn:"
   ]
  },
  {
   "cell_type": "code",
   "execution_count": 14,
   "id": "6007fbcc",
   "metadata": {},
   "outputs": [
    {
     "data": {
      "text/plain": [
       "RandomForestClassifier()"
      ]
     },
     "execution_count": 14,
     "metadata": {},
     "output_type": "execute_result"
    }
   ],
   "source": [
    "# Assuming 'data' is your DataFrame\n",
    "encoder = LabelEncoder()\n",
    "data['Sex'] = encoder.fit_transform(data['Sex'])\n",
    "data['Embarked'] = encoder.fit_transform(data['Embarked'])\n",
    "\n",
    "\n",
    "\n",
    "# Now, split the data again into features (X) and target (y)\n",
    "X = data.drop('Survived', axis=1)\n",
    "y = data['Survived']\n",
    "\n",
    "scaler = StandardScaler()\n",
    "X_train = scaler.fit_transform(data[['PassengerId', 'Pclass', 'Sex', 'Embarked']])\n",
    "\n",
    "\n",
    "\n",
    "# Split into training and testing sets\n",
    "X_train, X_test, y_train, y_test = train_test_split(X, y, test_size=0.2, random_state=42)\n",
    "\n",
    "# Now, you can fit the model\n",
    "model = RandomForestClassifier()\n",
    "model.fit(X_train, y_train)\n"
   ]
  },
  {
   "cell_type": "code",
   "execution_count": 17,
   "id": "c0d2ed88",
   "metadata": {},
   "outputs": [
    {
     "data": {
      "text/plain": [
       "RandomForestClassifier()"
      ]
     },
     "execution_count": 17,
     "metadata": {},
     "output_type": "execute_result"
    }
   ],
   "source": [
    "#Train Model with different Parameters\n",
    "# Assuming 'data' is your DataFrame\n",
    "encoder = LabelEncoder()\n",
    "data['Sex'] = encoder.fit_transform(data['Sex'])\n",
    "data['Embarked'] = encoder.fit_transform(data['Embarked'])\n",
    "\n",
    "\n",
    "\n",
    "# Now, split the data again into features (X) and target (y)\n",
    "X = data.drop('Survived', axis=1)\n",
    "y = data['Survived']\n",
    "\n",
    "scaler = StandardScaler()\n",
    "X_train = scaler.fit_transform(data[['PassengerId', 'Pclass', 'Sex', 'Embarked']])\n",
    "\n",
    "\n",
    "\n",
    "# Split into training and testing sets\n",
    "X_train, X_test, y_train, y_test = train_test_split(X, y, test_size=0.3, random_state=42)\n",
    "\n",
    "# Now, you can fit the model\n",
    "model = RandomForestClassifier()\n",
    "model.fit(X_train, y_train)"
   ]
  },
  {
   "cell_type": "code",
   "execution_count": 18,
   "id": "2fa151f1",
   "metadata": {},
   "outputs": [
    {
     "name": "stderr",
     "output_type": "stream",
     "text": [
      "C:\\Users\\Hacksakstyle\\anaconda3\\lib\\site-packages\\sklearn\\impute\\_base.py:49: FutureWarning: Unlike other reduction functions (e.g. `skew`, `kurtosis`), the default behavior of `mode` typically preserves the axis it acts along. In SciPy 1.11.0, this behavior will change: the default value of `keepdims` will become False, the `axis` over which the statistic is taken will be eliminated, and the value None will no longer be accepted. Set `keepdims` to True or False to avoid this warning.\n",
      "  mode = stats.mode(array)\n"
     ]
    }
   ],
   "source": [
    "num_imputer = SimpleImputer(strategy='mean')  # or 'mean'\n",
    "X_train = pd.DataFrame(num_imputer.fit_transform(X_train), columns=X_train.columns)\n",
    "\n",
    "cat_imputer = SimpleImputer(strategy='most_frequent')\n",
    "X_train = pd.DataFrame(cat_imputer.fit_transform(X_train), columns=X_train.columns)\n",
    "\n",
    "np.isnan(X_train).any()\n",
    "np.isinf(X_train).any()\n",
    "X_train.replace([np.inf, -np.inf], np.nan, inplace=True)\n",
    "\n",
    "\n"
   ]
  },
  {
   "cell_type": "markdown",
   "id": "978faa83",
   "metadata": {},
   "source": [
    "# Step 4: Log Parameters and Metrics using MLflow\n",
    "Now we can start logging our experiment using MLflow:"
   ]
  },
  {
   "cell_type": "code",
   "execution_count": 5,
   "id": "9c180fa7",
   "metadata": {},
   "outputs": [
    {
     "ename": "Exception",
     "evalue": "Run with UUID bc558e4bb74a45bbbc2b504e0ed925dc is already active. To start a new run, first end the current run with mlflow.end_run(). To start a nested run, call start_run with nested=True",
     "output_type": "error",
     "traceback": [
      "\u001b[1;31m---------------------------------------------------------------------------\u001b[0m",
      "\u001b[1;31mException\u001b[0m                                 Traceback (most recent call last)",
      "\u001b[1;32m~\\AppData\\Local\\Temp\\ipykernel_2792\\1545050789.py\u001b[0m in \u001b[0;36m<module>\u001b[1;34m\u001b[0m\n\u001b[0;32m     18\u001b[0m \u001b[1;33m\u001b[0m\u001b[0m\n\u001b[0;32m     19\u001b[0m \u001b[1;31m# Start an MLflow run\u001b[0m\u001b[1;33m\u001b[0m\u001b[1;33m\u001b[0m\u001b[0m\n\u001b[1;32m---> 20\u001b[1;33m \u001b[1;32mwith\u001b[0m \u001b[0mmlflow\u001b[0m\u001b[1;33m.\u001b[0m\u001b[0mstart_run\u001b[0m\u001b[1;33m(\u001b[0m\u001b[1;33m)\u001b[0m\u001b[1;33m:\u001b[0m\u001b[1;33m\u001b[0m\u001b[1;33m\u001b[0m\u001b[0m\n\u001b[0m\u001b[0;32m     21\u001b[0m     \u001b[1;31m# Predict on the test set\u001b[0m\u001b[1;33m\u001b[0m\u001b[1;33m\u001b[0m\u001b[0m\n\u001b[0;32m     22\u001b[0m     \u001b[0my_pred\u001b[0m \u001b[1;33m=\u001b[0m \u001b[0mclf\u001b[0m\u001b[1;33m.\u001b[0m\u001b[0mpredict\u001b[0m\u001b[1;33m(\u001b[0m\u001b[0mX_test\u001b[0m\u001b[1;33m)\u001b[0m\u001b[1;33m\u001b[0m\u001b[1;33m\u001b[0m\u001b[0m\n",
      "\u001b[1;32m~\\anaconda3\\lib\\site-packages\\mlflow\\tracking\\fluent.py\u001b[0m in \u001b[0;36mstart_run\u001b[1;34m(run_id, experiment_id, run_name, nested, tags, description, log_system_metrics)\u001b[0m\n\u001b[0;32m    296\u001b[0m     \u001b[0mexperiment_id\u001b[0m \u001b[1;33m=\u001b[0m \u001b[0mstr\u001b[0m\u001b[1;33m(\u001b[0m\u001b[0mexperiment_id\u001b[0m\u001b[1;33m)\u001b[0m \u001b[1;32mif\u001b[0m \u001b[0misinstance\u001b[0m\u001b[1;33m(\u001b[0m\u001b[0mexperiment_id\u001b[0m\u001b[1;33m,\u001b[0m \u001b[0mint\u001b[0m\u001b[1;33m)\u001b[0m \u001b[1;32melse\u001b[0m \u001b[0mexperiment_id\u001b[0m\u001b[1;33m\u001b[0m\u001b[1;33m\u001b[0m\u001b[0m\n\u001b[0;32m    297\u001b[0m     \u001b[1;32mif\u001b[0m \u001b[0mlen\u001b[0m\u001b[1;33m(\u001b[0m\u001b[0m_active_run_stack\u001b[0m\u001b[1;33m)\u001b[0m \u001b[1;33m>\u001b[0m \u001b[1;36m0\u001b[0m \u001b[1;32mand\u001b[0m \u001b[1;32mnot\u001b[0m \u001b[0mnested\u001b[0m\u001b[1;33m:\u001b[0m\u001b[1;33m\u001b[0m\u001b[1;33m\u001b[0m\u001b[0m\n\u001b[1;32m--> 298\u001b[1;33m         raise Exception(\n\u001b[0m\u001b[0;32m    299\u001b[0m             (\n\u001b[0;32m    300\u001b[0m                 \u001b[1;34m\"Run with UUID {} is already active. To start a new run, first end the \"\u001b[0m\u001b[1;33m\u001b[0m\u001b[1;33m\u001b[0m\u001b[0m\n",
      "\u001b[1;31mException\u001b[0m: Run with UUID bc558e4bb74a45bbbc2b504e0ed925dc is already active. To start a new run, first end the current run with mlflow.end_run(). To start a nested run, call start_run with nested=True"
     ]
    }
   ],
   "source": [
    "# Start an MLflow experiment\n",
    "mlflow.start_run()\n",
    "\n",
    "# Log parameters and metrics\n",
    "mlflow.log_param(\"n_estimators\", 100)\n",
    "\n",
    "# Instantiate the classifier\n",
    "clf = RandomForestClassifier()\n",
    "\n",
    "# Train the classifier\n",
    "# Make sure X_train and y_train are properly defined and contain your training data\n",
    "try:\n",
    "    clf.fit(X_train, y_train)\n",
    "except Exception as e:\n",
    "    print(\"Error during training:\", e)\n",
    "    # Handle or report the error appropriately\n",
    "\n",
    "\n",
    "# Start an MLflow run\n",
    "with mlflow.start_run():\n",
    "    # Predict on the test set\n",
    "    y_pred = clf.predict(X_test)\n",
    "\n",
    "    # Calculate evaluation metrics\n",
    "    accuracy = accuracy_score(y_test, y_pred)\n",
    "    precision = precision_score(y_test, y_pred)\n",
    "    recall = recall_score(y_test, y_pred)\n",
    "    f1 = f1_score(y_test, y_pred)\n",
    "\n",
    "    # Log parameters (if any)\n",
    "    # Example: mlflow.log_param(\"n_estimators\", clf.get_params()[\"n_estimators\"])\n",
    "\n",
    "# Logging the metrics using MLflow\n",
    "mlflow.log_metrics({'accuracy': accuracy, 'precision': precision, 'recall': recall, 'f1_score': f1})\n",
    "\n",
    "# Assuming you have a function to calculate metrics\n",
    "metrics = evaluate_model(clf, X_test, y_test)\n",
    "mlflow.log_metrics(metrics)\n",
    "\n",
    "# Log the model\n",
    "mlflow.sklearn.log_model(clf, \"random_forest_classifier\")\n",
    "\n"
   ]
  },
  {
   "cell_type": "code",
   "execution_count": 11,
   "id": "428943af",
   "metadata": {},
   "outputs": [],
   "source": [
    "# End the MLflow experiment\n",
    "mlflow.end_run()"
   ]
  },
  {
   "cell_type": "markdown",
   "id": "5b1e1ed5",
   "metadata": {},
   "source": [
    "# Step 5: Run and Track the Logged Parameters in the MLflow UI\n",
    "Run the above script to perform the training and logging. To start the MLflow UI, use the following command in your terminal:\n",
    "mlflow ui\n"
   ]
  },
  {
   "cell_type": "markdown",
   "id": "967a6f91",
   "metadata": {},
   "source": [
    "# Step 6: Modify the Model and Parameters\n",
    "Now, make some changes to the model or its parameters:"
   ]
  },
  {
   "cell_type": "code",
   "execution_count": 19,
   "id": "2f83df74",
   "metadata": {},
   "outputs": [
    {
     "ename": "Exception",
     "evalue": "Run with UUID 885d185e42ab48dd8fbcaf4b10be704d is already active. To start a new run, first end the current run with mlflow.end_run(). To start a nested run, call start_run with nested=True",
     "output_type": "error",
     "traceback": [
      "\u001b[1;31m---------------------------------------------------------------------------\u001b[0m",
      "\u001b[1;31mException\u001b[0m                                 Traceback (most recent call last)",
      "\u001b[1;32m~\\AppData\\Local\\Temp\\ipykernel_2792\\3334838544.py\u001b[0m in \u001b[0;36m<module>\u001b[1;34m\u001b[0m\n\u001b[0;32m     18\u001b[0m \u001b[1;33m\u001b[0m\u001b[0m\n\u001b[0;32m     19\u001b[0m \u001b[1;31m# Start an MLflow run\u001b[0m\u001b[1;33m\u001b[0m\u001b[1;33m\u001b[0m\u001b[0m\n\u001b[1;32m---> 20\u001b[1;33m \u001b[1;32mwith\u001b[0m \u001b[0mmlflow\u001b[0m\u001b[1;33m.\u001b[0m\u001b[0mstart_run\u001b[0m\u001b[1;33m(\u001b[0m\u001b[1;33m)\u001b[0m\u001b[1;33m:\u001b[0m\u001b[1;33m\u001b[0m\u001b[1;33m\u001b[0m\u001b[0m\n\u001b[0m\u001b[0;32m     21\u001b[0m     \u001b[1;31m# Predict on the test set\u001b[0m\u001b[1;33m\u001b[0m\u001b[1;33m\u001b[0m\u001b[0m\n\u001b[0;32m     22\u001b[0m     \u001b[0my_pred\u001b[0m \u001b[1;33m=\u001b[0m \u001b[0mclf\u001b[0m\u001b[1;33m.\u001b[0m\u001b[0mpredict\u001b[0m\u001b[1;33m(\u001b[0m\u001b[0mX_test\u001b[0m\u001b[1;33m)\u001b[0m\u001b[1;33m\u001b[0m\u001b[1;33m\u001b[0m\u001b[0m\n",
      "\u001b[1;32m~\\anaconda3\\lib\\site-packages\\mlflow\\tracking\\fluent.py\u001b[0m in \u001b[0;36mstart_run\u001b[1;34m(run_id, experiment_id, run_name, nested, tags, description, log_system_metrics)\u001b[0m\n\u001b[0;32m    296\u001b[0m     \u001b[0mexperiment_id\u001b[0m \u001b[1;33m=\u001b[0m \u001b[0mstr\u001b[0m\u001b[1;33m(\u001b[0m\u001b[0mexperiment_id\u001b[0m\u001b[1;33m)\u001b[0m \u001b[1;32mif\u001b[0m \u001b[0misinstance\u001b[0m\u001b[1;33m(\u001b[0m\u001b[0mexperiment_id\u001b[0m\u001b[1;33m,\u001b[0m \u001b[0mint\u001b[0m\u001b[1;33m)\u001b[0m \u001b[1;32melse\u001b[0m \u001b[0mexperiment_id\u001b[0m\u001b[1;33m\u001b[0m\u001b[1;33m\u001b[0m\u001b[0m\n\u001b[0;32m    297\u001b[0m     \u001b[1;32mif\u001b[0m \u001b[0mlen\u001b[0m\u001b[1;33m(\u001b[0m\u001b[0m_active_run_stack\u001b[0m\u001b[1;33m)\u001b[0m \u001b[1;33m>\u001b[0m \u001b[1;36m0\u001b[0m \u001b[1;32mand\u001b[0m \u001b[1;32mnot\u001b[0m \u001b[0mnested\u001b[0m\u001b[1;33m:\u001b[0m\u001b[1;33m\u001b[0m\u001b[1;33m\u001b[0m\u001b[0m\n\u001b[1;32m--> 298\u001b[1;33m         raise Exception(\n\u001b[0m\u001b[0;32m    299\u001b[0m             (\n\u001b[0;32m    300\u001b[0m                 \u001b[1;34m\"Run with UUID {} is already active. To start a new run, first end the \"\u001b[0m\u001b[1;33m\u001b[0m\u001b[1;33m\u001b[0m\u001b[0m\n",
      "\u001b[1;31mException\u001b[0m: Run with UUID 885d185e42ab48dd8fbcaf4b10be704d is already active. To start a new run, first end the current run with mlflow.end_run(). To start a nested run, call start_run with nested=True"
     ]
    }
   ],
   "source": [
    "# Start an MLflow experiment\n",
    "mlflow.start_run()\n",
    "\n",
    "# Modify the model's parameters\n",
    "clf = RandomForestClassifier(n_estimators=200, random_state=42)\n",
    "\n",
    "# Instantiate the classifier\n",
    "clf = RandomForestClassifier()\n",
    "\n",
    "# Train the classifier\n",
    "# Make sure X_train and y_train are properly defined and contain your training data\n",
    "try:\n",
    "    clf.fit(X_train, y_train)\n",
    "except Exception as e:\n",
    "    print(\"Error during training:\", e)\n",
    "    # Handle or report the error appropriately\n",
    "\n",
    "\n",
    "# Start an MLflow run\n",
    "with mlflow.start_run():\n",
    "    # Predict on the test set\n",
    "    y_pred = clf.predict(X_test)\n",
    "\n",
    "    # Calculate evaluation metrics\n",
    "    accuracy = accuracy_score(y_test, y_pred)\n",
    "    precision = precision_score(y_test, y_pred)\n",
    "    recall = recall_score(y_test, y_pred)\n",
    "    f1 = f1_score(y_test, y_pred)\n",
    "\n",
    "    # Log parameters (if any)\n",
    "    # Example: mlflow.log_param(\"n_estimators\", clf.get_params()[\"n_estimators\"])\n",
    "\n",
    "# Logging the metrics using MLflow\n",
    "mlflow.log_metrics({'accuracy': accuracy, 'precision': precision, 'recall': recall, 'f1_score': f1})\n",
    "\n",
    "# Assuming you have a function to calculate metrics\n",
    "metrics = evaluate_model(clf, X_test, y_test)\n",
    "mlflow.log_metrics(metrics)\n",
    "\n",
    "# Log the model\n",
    "mlflow.sklearn.log_model(clf, \"random_forest_classifier_v2\")\n"
   ]
  },
  {
   "cell_type": "code",
   "execution_count": 20,
   "id": "3d12b22a",
   "metadata": {},
   "outputs": [],
   "source": [
    "# End the MLflow experiment\n",
    "mlflow.end_run()"
   ]
  },
  {
   "cell_type": "markdown",
   "id": "c6dbc985",
   "metadata": {},
   "source": [
    "# Step 7: Serve the Model using MLflow\n",
    "To serve the model using MLflow, you need to first save it in the MLflow Model format:"
   ]
  },
  {
   "cell_type": "code",
   "execution_count": 21,
   "id": "59e921c8",
   "metadata": {},
   "outputs": [
    {
     "ename": "MlflowException",
     "evalue": "Path 'my_random_forest_model' already exists and is not empty",
     "output_type": "error",
     "traceback": [
      "\u001b[1;31m---------------------------------------------------------------------------\u001b[0m",
      "\u001b[1;31mMlflowException\u001b[0m                           Traceback (most recent call last)",
      "\u001b[1;32m~\\AppData\\Local\\Temp\\ipykernel_2792\\1975689575.py\u001b[0m in \u001b[0;36m<module>\u001b[1;34m\u001b[0m\n\u001b[1;32m----> 1\u001b[1;33m \u001b[0mmlflow\u001b[0m\u001b[1;33m.\u001b[0m\u001b[0msklearn\u001b[0m\u001b[1;33m.\u001b[0m\u001b[0msave_model\u001b[0m\u001b[1;33m(\u001b[0m\u001b[0mclf\u001b[0m\u001b[1;33m,\u001b[0m \u001b[1;34m\"my_random_forest_model\"\u001b[0m\u001b[1;33m)\u001b[0m\u001b[1;33m\u001b[0m\u001b[1;33m\u001b[0m\u001b[0m\n\u001b[0m",
      "\u001b[1;32m~\\anaconda3\\lib\\site-packages\\mlflow\\sklearn\\__init__.py\u001b[0m in \u001b[0;36msave_model\u001b[1;34m(sk_model, path, conda_env, code_paths, mlflow_model, serialization_format, signature, input_example, pip_requirements, extra_pip_requirements, pyfunc_predict_fn, metadata)\u001b[0m\n\u001b[0;32m    240\u001b[0m         )\n\u001b[0;32m    241\u001b[0m \u001b[1;33m\u001b[0m\u001b[0m\n\u001b[1;32m--> 242\u001b[1;33m     \u001b[0m_validate_and_prepare_target_save_path\u001b[0m\u001b[1;33m(\u001b[0m\u001b[0mpath\u001b[0m\u001b[1;33m)\u001b[0m\u001b[1;33m\u001b[0m\u001b[1;33m\u001b[0m\u001b[0m\n\u001b[0m\u001b[0;32m    243\u001b[0m     \u001b[0mcode_path_subdir\u001b[0m \u001b[1;33m=\u001b[0m \u001b[0m_validate_and_copy_code_paths\u001b[0m\u001b[1;33m(\u001b[0m\u001b[0mcode_paths\u001b[0m\u001b[1;33m,\u001b[0m \u001b[0mpath\u001b[0m\u001b[1;33m)\u001b[0m\u001b[1;33m\u001b[0m\u001b[1;33m\u001b[0m\u001b[0m\n\u001b[0;32m    244\u001b[0m \u001b[1;33m\u001b[0m\u001b[0m\n",
      "\u001b[1;32m~\\anaconda3\\lib\\site-packages\\mlflow\\utils\\model_utils.py\u001b[0m in \u001b[0;36m_validate_and_prepare_target_save_path\u001b[1;34m(path)\u001b[0m\n\u001b[0;32m    130\u001b[0m \u001b[1;32mdef\u001b[0m \u001b[0m_validate_and_prepare_target_save_path\u001b[0m\u001b[1;33m(\u001b[0m\u001b[0mpath\u001b[0m\u001b[1;33m)\u001b[0m\u001b[1;33m:\u001b[0m\u001b[1;33m\u001b[0m\u001b[1;33m\u001b[0m\u001b[0m\n\u001b[0;32m    131\u001b[0m     \u001b[1;32mif\u001b[0m \u001b[0mos\u001b[0m\u001b[1;33m.\u001b[0m\u001b[0mpath\u001b[0m\u001b[1;33m.\u001b[0m\u001b[0mexists\u001b[0m\u001b[1;33m(\u001b[0m\u001b[0mpath\u001b[0m\u001b[1;33m)\u001b[0m \u001b[1;32mand\u001b[0m \u001b[0many\u001b[0m\u001b[1;33m(\u001b[0m\u001b[0mos\u001b[0m\u001b[1;33m.\u001b[0m\u001b[0mscandir\u001b[0m\u001b[1;33m(\u001b[0m\u001b[0mpath\u001b[0m\u001b[1;33m)\u001b[0m\u001b[1;33m)\u001b[0m\u001b[1;33m:\u001b[0m\u001b[1;33m\u001b[0m\u001b[1;33m\u001b[0m\u001b[0m\n\u001b[1;32m--> 132\u001b[1;33m         raise MlflowException(\n\u001b[0m\u001b[0;32m    133\u001b[0m             \u001b[0mmessage\u001b[0m\u001b[1;33m=\u001b[0m\u001b[1;34mf\"Path '{path}' already exists and is not empty\"\u001b[0m\u001b[1;33m,\u001b[0m\u001b[1;33m\u001b[0m\u001b[1;33m\u001b[0m\u001b[0m\n\u001b[0;32m    134\u001b[0m             \u001b[0merror_code\u001b[0m\u001b[1;33m=\u001b[0m\u001b[0mRESOURCE_ALREADY_EXISTS\u001b[0m\u001b[1;33m,\u001b[0m\u001b[1;33m\u001b[0m\u001b[1;33m\u001b[0m\u001b[0m\n",
      "\u001b[1;31mMlflowException\u001b[0m: Path 'my_random_forest_model' already exists and is not empty"
     ]
    }
   ],
   "source": [
    "mlflow.sklearn.save_model(clf, \"my_random_forest_model\")"
   ]
  },
  {
   "cell_type": "code",
   "execution_count": null,
   "id": "c05a4db5",
   "metadata": {},
   "outputs": [],
   "source": []
  }
 ],
 "metadata": {
  "kernelspec": {
   "display_name": "Python 3 (ipykernel)",
   "language": "python",
   "name": "python3"
  },
  "language_info": {
   "codemirror_mode": {
    "name": "ipython",
    "version": 3
   },
   "file_extension": ".py",
   "mimetype": "text/x-python",
   "name": "python",
   "nbconvert_exporter": "python",
   "pygments_lexer": "ipython3",
   "version": "3.9.18"
  }
 },
 "nbformat": 4,
 "nbformat_minor": 5
}
